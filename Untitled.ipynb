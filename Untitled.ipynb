{
 "cells": [
  {
   "cell_type": "code",
   "execution_count": 2,
   "id": "3c972d36-baf0-43cf-a099-06665e30c140",
   "metadata": {},
   "outputs": [
    {
     "name": "stderr",
     "output_type": "stream",
     "text": [
      "/home/wael/MedCAT/medcat/cat.py:17: TqdmExperimentalWarning: Using `tqdm.autonotebook.tqdm` in notebook mode. Use `tqdm.tqdm` instead to force console mode (e.g. in jupyter console)\n",
      "  from tqdm.autonotebook import tqdm, trange\n"
     ]
    }
   ],
   "source": [
    "from medcat.cdb import CDB\n",
    "from medcat.cat import CAT\n",
    "from medcat.vocab import Vocab"
   ]
  },
  {
   "cell_type": "code",
   "execution_count": 2,
   "id": "1d3b3ea4-60d7-4ad8-a3c1-cfa62c3bb0c3",
   "metadata": {},
   "outputs": [
    {
     "name": "stdout",
     "output_type": "stream",
     "text": [
      "True\n"
     ]
    }
   ],
   "source": [
    "import torch\n",
    "print(torch.cuda.is_available())"
   ]
  },
  {
   "cell_type": "code",
   "execution_count": 4,
   "id": "d12701c0-0dbd-4cf9-837c-c07e35e70396",
   "metadata": {},
   "outputs": [],
   "source": [
    "DATA_DIR = \"./models/\"\n",
    "! DATA_DIR=\"./models/\"\n",
    "model_pack_path = DATA_DIR + \"umls_self_train_model_pt2ch_3760d588371755d0\""
   ]
  },
  {
   "cell_type": "code",
   "execution_count": 5,
   "id": "30c7a9fa-2464-4fa7-99b6-c3a5f5e484a3",
   "metadata": {},
   "outputs": [],
   "source": [
    "vocab = Vocab()"
   ]
  },
  {
   "cell_type": "code",
   "execution_count": 6,
   "id": "c6d648f6-a965-4815-a9d4-8b86f344207a",
   "metadata": {},
   "outputs": [
    {
     "data": {
      "text/plain": [
       "<medcat.vocab.Vocab at 0x7fe5023412d0>"
      ]
     },
     "execution_count": 6,
     "metadata": {},
     "output_type": "execute_result"
    }
   ],
   "source": [
    "vocab.load('models/umls_self_train_model_pt2ch_3760d588371755d0/vocab.dat')"
   ]
  },
  {
   "cell_type": "code",
   "execution_count": 2,
   "id": "6e0f116a-58c0-4ad2-ba70-b1ec3fe4da20",
   "metadata": {},
   "outputs": [],
   "source": [
    "cdb = CDB()"
   ]
  },
  {
   "cell_type": "code",
   "execution_count": 6,
   "id": "f1102e54-539a-4589-a248-d767b0f9127b",
   "metadata": {},
   "outputs": [],
   "source": [
    "cdb.load('models/mc_modelpack_snomed_int_16_mar_2022_25be3857ba34bdd5/cdb.dat')"
   ]
  },
  {
   "cell_type": "code",
   "execution_count": 3,
   "id": "41290a3d-2fae-44b2-9c60-71b6ef653b5b",
   "metadata": {},
   "outputs": [
    {
     "name": "stderr",
     "output_type": "stream",
     "text": [
      "/home/wael/miniforge3/envs/Medcat/lib/python3.10/site-packages/spacy/util.py:910: UserWarning: [W095] Model 'en_core_web_md' (3.1.0) was trained with spaCy v3.1.0 and may not be 100% compatible with the current version (3.7.5). If you see errors or degraded performance, download a newer compatible model or retrain your custom model with the current spaCy version. For more details and available updates, run: python -m spacy validate\n",
      "  warnings.warn(warn_msg)\n"
     ]
    }
   ],
   "source": [
    "cat = CAT.load_model_pack('models/mc_modelpack_snomed_int_16_mar_2022_25be3857ba34bdd5')"
   ]
  },
  {
   "cell_type": "code",
   "execution_count": 4,
   "id": "f7844b2a-78e4-47e3-a863-eb2d63607060",
   "metadata": {},
   "outputs": [],
   "source": [
    "cat.cdb.print_stats()"
   ]
  },
  {
   "cell_type": "code",
   "execution_count": 9,
   "id": "9c90feb4",
   "metadata": {},
   "outputs": [
    {
     "name": "stdout",
     "output_type": "stream",
     "text": [
      "{'spacy_disabled_components': ['ner', 'parser', 'vectors', 'textcat', 'entity_linker', 'sentencizer', 'entity_ruler', 'merge_noun_chunks', 'merge_entities', 'merge_subtokens'], 'checkpoint': {'output_dir': 'checkpoints', 'steps': None, 'max_to_keep': 1}, 'log_level': 20, 'log_format': '%(levelname)s:%(name)s: %(message)s', 'log_path': './medcat.log', 'spacy_model': 'models/mc_modelpack_snomed_int_16_mar_2022_25be3857ba34bdd5/spacy_model', 'separator': '~', 'spell_check': True, 'diacritics': False, 'spell_check_deep': False, 'spell_check_len_limit': 7, 'show_nested_entities': False, 'full_unlink': False, 'workers': 79, 'make_pretty_labels': None, 'map_cui_to_group': False, 'cdb_source_name': ''}\n"
     ]
    }
   ],
   "source": [
    "print(cat.cdb.config.asdict()['general'])"
   ]
  },
  {
   "cell_type": "code",
   "execution_count": 28,
   "id": "fd6be069",
   "metadata": {},
   "outputs": [
    {
     "data": {
      "text/plain": [
       "{'Number of concepts': 354448,\n",
       " 'Number of names': 2049216,\n",
       " 'Number of concepts that received training': 29674,\n",
       " 'Number of seen training examples in total': 20585988,\n",
       " 'Average training examples per concept': 693.7382220125362}"
      ]
     },
     "execution_count": 28,
     "metadata": {},
     "output_type": "execute_result"
    }
   ],
   "source": [
    "import numpy as np\n",
    "self = cat.cdb\n",
    "stats = {}\n",
    "stats[\"Number of concepts\"] = len(self.cui2names)\n",
    "stats[\"Number of names\"] = len(self.name2cuis)\n",
    "stats[\"Number of concepts that received training\"] = len([cui for cui in self.cui2count_train if self.cui2count_train[cui] > 0])\n",
    "stats[\"Number of seen training examples in total\"] = sum(self.cui2count_train.values())\n",
    "positive_count_trains = [self.cui2count_train[cui] for cui in self.cui2count_train if self.cui2count_train[cui] > 0]\n",
    "stats[\"Average training examples per concept\"] = np.average(positive_count_trains) if positive_count_trains else 0.0\n",
    "stats"
   ]
  },
  {
   "cell_type": "code",
   "execution_count": 30,
   "id": "35ee5fa5",
   "metadata": {},
   "outputs": [
    {
     "data": {
      "text/plain": [
       "{'Number of concepts': 354448,\n",
       " 'Number of names': 2049216,\n",
       " 'Number of concepts that received training': 29674,\n",
       " 'Number of seen training examples in total': 20585988,\n",
       " 'Average training examples per concept': 693.7382220125362}"
      ]
     },
     "execution_count": 30,
     "metadata": {},
     "output_type": "execute_result"
    }
   ],
   "source": [
    "cat.cdb.make_stats()"
   ]
  },
  {
   "cell_type": "code",
   "execution_count": null,
   "id": "e81f4867",
   "metadata": {},
   "outputs": [],
   "source": []
  }
 ],
 "metadata": {
  "kernelspec": {
   "display_name": "Python 3 (ipykernel)",
   "language": "python",
   "name": "python3"
  },
  "language_info": {
   "codemirror_mode": {
    "name": "ipython",
    "version": 3
   },
   "file_extension": ".py",
   "mimetype": "text/x-python",
   "name": "python",
   "nbconvert_exporter": "python",
   "pygments_lexer": "ipython3",
   "version": "3.10.14"
  }
 },
 "nbformat": 4,
 "nbformat_minor": 5
}
