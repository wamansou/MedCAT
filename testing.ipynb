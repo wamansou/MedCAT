{
 "cells": [
  {
   "cell_type": "code",
   "execution_count": 2,
   "metadata": {},
   "outputs": [
    {
     "name": "stderr",
     "output_type": "stream",
     "text": [
      "/home/wael/MedCAT/medcat/cat.py:17: TqdmExperimentalWarning: Using `tqdm.autonotebook.tqdm` in notebook mode. Use `tqdm.tqdm` instead to force console mode (e.g. in jupyter console)\n",
      "  from tqdm.autonotebook import tqdm, trange\n"
     ]
    }
   ],
   "source": [
    "import pandas as pd\n",
    "import numpy as np\n",
    "import pickle\n",
    "import seaborn as sns\n",
    "\n",
    "from matplotlib import pyplot as plt\n",
    "from medcat.cat import CAT"
   ]
  },
  {
   "cell_type": "code",
   "execution_count": 4,
   "metadata": {},
   "outputs": [],
   "source": [
    "DATA_DIR = \"./models/\"\n",
    "! DATA_DIR=\"./models/\"\n",
    "model_pack_path = DATA_DIR + \"umls_self_train_model_pt2ch_3760d588371755d0\""
   ]
  },
  {
   "cell_type": "code",
   "execution_count": 5,
   "metadata": {},
   "outputs": [
    {
     "name": "stderr",
     "output_type": "stream",
     "text": [
      "/home/wael/miniforge3/envs/Medcat/lib/python3.10/site-packages/spacy/util.py:910: UserWarning: [W095] Model 'en_core_web_md' (3.1.0) was trained with spaCy v3.1.0 and may not be 100% compatible with the current version (3.7.5). If you see errors or degraded performance, download a newer compatible model or retrain your custom model with the current spaCy version. For more details and available updates, run: python -m spacy validate\n",
      "  warnings.warn(warn_msg)\n"
     ]
    }
   ],
   "source": [
    "cat = CAT.load_model_pack(model_pack_path)\n"
   ]
  },
  {
   "cell_type": "code",
   "execution_count": 10,
   "metadata": {},
   "outputs": [
    {
     "name": "stdout",
     "output_type": "stream",
     "text": [
      "{\n",
      "  \"Model ID\": \"3760d588371755d0\",\n",
      "  \"Last Modified On\": \"07 June 2023\",\n",
      "  \"History (from least to most recent)\": [\n",
      "    \"0d4ccc7b9ae1ecd2\",\n",
      "    \"17d2e290b00f11e8\",\n",
      "    \"d0b9d8d803ef3ab0\",\n",
      "    \"5caf9b634cbe23c1\",\n",
      "    \"4e64b0023b1491f6\",\n",
      "    \"62ebbdf175e4eedd\",\n",
      "    \"198b35e8c9cd0283\",\n",
      "    \"e0093e165b7f47e5\",\n",
      "    \"d40143b06abf062e\",\n",
      "    \"78605ed0f6993b4d\",\n",
      "    \"9d9166a6561f54f1\",\n",
      "    \"da7a3b091a29205e\",\n",
      "    \"0f0eb8bd4a50507e\",\n",
      "    \"4e8dcdf105b848f0\",\n",
      "    \"60a60a4f5edcf21f\",\n",
      "    \"d5da4386afa42c69\",\n",
      "    \"b370b88440073ba6\",\n",
      "    \"5b6457e57bc2bac6\",\n",
      "    \"e6a3660d3ba19f52\"\n",
      "  ],\n",
      "  \"Description\": \"No description\",\n",
      "  \"Source Ontology\": null,\n",
      "  \"Location\": null,\n",
      "  \"MetaCAT models\": [],\n",
      "  \"Basic CDB Stats\": {\n",
      "    \"Number of concepts\": 4551756,\n",
      "    \"Number of names\": 7735467,\n",
      "    \"Number of concepts that received training\": 62796,\n",
      "    \"Number of seen training examples in total\": 44327653,\n",
      "    \"Average training examples per concept\": 705.8993088731767\n",
      "  },\n",
      "  \"Performance\": {\n",
      "    \"ner\": {},\n",
      "    \"meta\": {}\n",
      "  },\n",
      "  \"Important Parameters (Partial view, all available in cat.config)\": {\n",
      "    \"config.ner.min_name_len\": {\n",
      "      \"value\": 2,\n",
      "      \"description\": \"Minimum detection length (found terms/mentions shorter than this will not be detected).\"\n",
      "    },\n",
      "    \"config.ner.upper_case_limit_len\": {\n",
      "      \"value\": 3,\n",
      "      \"description\": \"All detected terms shorter than this value have to be uppercase, otherwise they will be ignored.\"\n",
      "    },\n",
      "    \"config.linking.similarity_threshold\": {\n",
      "      \"value\": 0.3,\n",
      "      \"description\": \"If the confidence of the model is lower than this a detection will be ignore.\"\n",
      "    },\n",
      "    \"config.linking.filters.cuis\": {\n",
      "      \"value\": 4551756,\n",
      "      \"description\": \"Length of the CUIs filter to be included in outputs. If this is not 0 (i.e. not empty) its best to check what is included before using the model\"\n",
      "    },\n",
      "    \"config.general.spell_check\": {\n",
      "      \"value\": true,\n",
      "      \"description\": \"Is spell checking enabled.\"\n",
      "    },\n",
      "    \"config.general.spell_check_len_limit\": {\n",
      "      \"value\": 7,\n",
      "      \"description\": \"Words shorter than this will not be spell checked.\"\n",
      "    }\n",
      "  },\n",
      "  \"MedCAT Version\": \"1.3.1.dev315\"\n",
      "}\n"
     ]
    }
   ],
   "source": [
    "print(cat.get_model_card())"
   ]
  },
  {
   "cell_type": "code",
   "execution_count": null,
   "metadata": {},
   "outputs": [],
   "source": []
  }
 ],
 "metadata": {
  "kernelspec": {
   "display_name": "Medcat",
   "language": "python",
   "name": "python3"
  },
  "language_info": {
   "codemirror_mode": {
    "name": "ipython",
    "version": 3
   },
   "file_extension": ".py",
   "mimetype": "text/x-python",
   "name": "python",
   "nbconvert_exporter": "python",
   "pygments_lexer": "ipython3",
   "version": "3.10.14"
  }
 },
 "nbformat": 4,
 "nbformat_minor": 2
}
